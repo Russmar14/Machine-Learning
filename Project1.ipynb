{
 "cells": [
  {
   "cell_type": "markdown",
   "metadata": {},
   "source": [
    "# CIS 678 Project 1\n",
    "### 1. Pre-processing: read in and process the data\n",
    "I chose to use a space as a delimiter for the split() method, and used strip() to remove /n characters. This should leave me with only letters, numbers and special characters. \n",
    "\n",
    "My definition of a syllable includes the exception to the \"vowel following a consonant\" Rule, as well as the \"vowel at the beginning of a word\" rule. "
   ]
  },
  {
   "cell_type": "code",
   "execution_count": 21,
   "metadata": {},
   "outputs": [],
   "source": [
    "def syllable_count_function(content):\n",
    "    numSyllables = 0\n",
    "    vowels = \"aeiouy\"\n",
    "    for word in content.split(\" \"):\n",
    "        word = word.lower()\n",
    "        word = word.strip()\n",
    "                #Rule 1: vowel at start of word\n",
    "        if word[0] in vowels:\n",
    "            numSyllables +=1\n",
    "                #Rule 2: vowel following consonant...\n",
    "        \n",
    "        for i in range(1, len(word)):\n",
    "            if word[i-1] not in vowels and word[i] in vowels:\n",
    "                \n",
    "                numSyllables +=1\n",
    "                        #exception to Rule 2: other than \"the\", a lone 'e'\n",
    "                        #does not constitute a syllable\n",
    "                if word.endswith(\"e\") and word != \"the\":\n",
    "                    numSyllables -=1\n",
    "\n",
    "    return numSyllables\n",
    "\n",
    "def word_count_function(content):\n",
    "    numWords = 0\n",
    "    for word in content.split(\" \"):\n",
    "        word = word.lower()\n",
    "        numWords +=1\n",
    "    return numWords\n",
    "\n",
    "def sentence_count_function(content):\n",
    "    numSentences = 0\n",
    "    for word in content.split(\" \"):\n",
    "        word = word.lower()\n",
    "        if word.endswith(('.', '?', '!')):\n",
    "            numSentences +=1\n",
    "    return numSentences\n"
   ]
  },
  {
   "cell_type": "markdown",
   "metadata": {},
   "source": [
    "### 2. Analysis: compute the Flesch Index of your data"
   ]
  },
  {
   "cell_type": "code",
   "execution_count": 22,
   "metadata": {},
   "outputs": [],
   "source": [
    "#computing score using our variables\n",
    "def flesch_index_calculator(file_name):\n",
    "    #count syllables, words and sentences in a document\n",
    "    numSyllables = syllable_count_function(content)\n",
    "    numWords = word_count_function(content)\n",
    "    numSentences = sentence_count_function(content)\n",
    "    #in order to calculate the flesch index\n",
    "    flesch_index = 206.835 - 84.6*(numSyllables/numWords) - 1.015*(numWords/numSentences)\n",
    "    return flesch_index\n",
    "\n",
    "file_name = input(\"input the file name you would like to count:\")\n",
    "with open(file_name, \"r\") as file:\n",
    "    content = file.read()\n",
    "    flesch_index_calculator(content)\n",
    "    "
   ]
  },
  {
   "cell_type": "markdown",
   "metadata": {},
   "source": [
    "### 3. Visualization: display the data/results\n",
    "\n",
    "Let's look at how many syllables per word each document had.\n",
    "\n",
    "I was unable to get GettysburgAddress.txt to work with my syllable_count_function so I compared a bit of Shakespeare from Romeo and Juliet. "
   ]
  },
  {
   "cell_type": "markdown",
   "metadata": {},
   "source": []
  },
  {
   "cell_type": "code",
   "execution_count": 23,
   "metadata": {},
   "outputs": [
    {
     "data": {
      "image/png": "[encoded data removed]",
      "text/plain": [
       "<Figure size 640x480 with 1 Axes>"
      ]
     },
     "metadata": {},
     "output_type": "display_data"
    }
   ],
   "source": [
    "import matplotlib.pyplot as plt\n",
    "#define names\n",
    "names = ['Shakespeare','NYTimes']\n",
    "#create values to plot showing our statistic of interest\n",
    "syl_per_word_shake = syllable_count_function(\"Shakespeare.txt\")/word_count_function(\"Shakespeare.txt\")\n",
    "syl_per_word_NYT = syllable_count_function(\"NYTimes.txt\")/word_count_function(\"NYTimes.txt\")\n",
    "plt.plot(names,[syl_per_word_shake, syl_per_word_NYT],'ro')\n",
    "\n",
    "plt.show()"
   ]
  },
  {
   "cell_type": "markdown",
   "metadata": {},
   "source": [
    "### 4. Experimentation: what does the data tell you?\n",
    "\n",
    "Microsoft Word's wordcount says that the NYTimes article has 807 words while mine says that it has 793, demonstrating a difference in calculations. Though these are close of course, it is likely due to an error in my method of counting words. \n",
    "\n",
    "Shakespeare has a reputation as being hard to read. Is it actually hard to read compared to these\n",
    "other documents? (According to the Flesch Index?) It seems like it, this has the lowest flesch index so far (hardest to read)."
   ]
  },
  {
   "cell_type": "markdown",
   "metadata": {},
   "source": []
  },
  {
   "cell_type": "code",
   "execution_count": 24,
   "metadata": {},
   "outputs": [
    {
     "data": {
      "image/png": "[encoded data removed]",
      "text/plain": [
       "<Figure size 640x480 with 1 Axes>"
      ]
     },
     "metadata": {},
     "output_type": "display_data"
    }
   ],
   "source": [
    "names = ['Shakespeare']\n",
    "flesch_index_shake = flesch_index_calculator(\"Shakespeare.txt\")\n",
    "\n",
    "plt.plot(names,[flesch_index_shake],'ro')\n",
    "\n",
    "plt.show()\n"
   ]
  },
  {
   "cell_type": "code",
   "execution_count": null,
   "metadata": {},
   "outputs": [],
   "source": []
  }
 ],
 "metadata": {
  "interpreter": {
   "hash": "552eff63ae26b1f7715ef9da8940d59e9923cc9f3696b79d9372b91e56e1a4b8"
  },
  "kernelspec": {
   "display_name": "Python 3.9.13",
   "language": "python",
   "name": "python3"
  },
  "language_info": {
   "codemirror_mode": {
    "name": "ipython",
    "version": 3
   },
   "file_extension": ".py",
   "mimetype": "text/x-python",
   "name": "python",
   "nbconvert_exporter": "python",
   "pygments_lexer": "ipython3",
   "version": "3.9.13"
  },
  "orig_nbformat": 4
 },
 "nbformat": 4,
 "nbformat_minor": 2
}
